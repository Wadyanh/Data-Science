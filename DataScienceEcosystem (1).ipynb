{
 "cells": [
  {
   "attachments": {},
   "cell_type": "markdown",
   "id": "a7820ea5-4117-47be-958d-9482ff70f498",
   "metadata": {},
   "source": [
    "# Data Science Tool and Ecosystem"
   ]
  },
  {
   "cell_type": "markdown",
   "id": "5a677c35-023c-4896-b53c-08da5409b8cf",
   "metadata": {},
   "source": [
    "         Some of popular languages that Data Scientists use are:\n",
    "         \n",
    "          1. Python\n",
    "          2. R\n",
    "          3. SQL\n",
    "          4. C++\n",
    "          5. Java etc..;"
   ]
  },
  {
   "cell_type": "markdown",
   "id": "d55b26d6-4187-4975-9742-50d7ae2a1e74",
   "metadata": {},
   "source": [
    "          Some of the commonly used  libraries by Data Scients include:\n",
    "          \n",
    "          1. TensorFolw.\n",
    "          2. NumPy.\n",
    "          3. Scipy. \n",
    "          4. Pandas.\n",
    "          5. Matplotib.\n",
    "          6. Keras. \n",
    "          7. Scikit-Learn.\n",
    "          8. PuTorch.  etc..;\n",
    "          "
   ]
  },
  {
   "cell_type": "markdown",
   "id": "bd675146-2f3f-4ae8-bf86-55fc7e26de42",
   "metadata": {},
   "source": [
    "|Data Science Tools|\n",
    "|---|\n",
    "|SAS|\n",
    "|Apache Hadoop|\n",
    "|TensorFlow|"
   ]
  },
  {
   "cell_type": "markdown",
   "id": "6a6afcc9-9dc9-4a68-907f-219dd608307e",
   "metadata": {},
   "source": [
    "### Below are a few examples of evaluating expression in Python."
   ]
  },
  {
   "cell_type": "code",
   "execution_count": 4,
   "id": "50bbddd6-09fb-4288-a5da-de14efca58f1",
   "metadata": {},
   "outputs": [
    {
     "data": {
      "text/plain": [
       "17"
      ]
     },
     "execution_count": 4,
     "metadata": {},
     "output_type": "execute_result"
    }
   ],
   "source": [
    "# this is a common arithmeitc example to multiply and then add integers\n",
    "(3*4)+5"
   ]
  },
  {
   "cell_type": "code",
   "execution_count": 5,
   "id": "71bbdefb-7b12-4a6a-b3e4-1d8eec62a055",
   "metadata": {},
   "outputs": [
    {
     "data": {
      "text/plain": [
       "3.3333333333333335"
      ]
     },
     "execution_count": 5,
     "metadata": {},
     "output_type": "execute_result"
    }
   ],
   "source": [
    "# This will convert 200 minutes to hours by diving by 60\n",
    "200/60"
   ]
  },
  {
   "cell_type": "markdown",
   "id": "8ee4a59f-3588-49f7-a2e7-ad11336b8533",
   "metadata": {},
   "source": [
    "__Objective__\n",
    "    \n",
    "* List popular languages for Data Science\n",
    "* List popular libraries for Data Science \n",
    "* List of Will known Data Science Tools\n",
    "* How to Provide comments in the cell\n",
    "    "
   ]
  },
  {
   "cell_type": "markdown",
   "id": "ee9efeae-86e1-458b-ae5e-3e0b37b0975e",
   "metadata": {},
   "source": [
    "## Author\n",
    "Wadyan Alharbi"
   ]
  }
 ],
 "metadata": {
  "kernelspec": {
   "display_name": "Python 3 (ipykernel)",
   "language": "python",
   "name": "python3"
  },
  "language_info": {
   "codemirror_mode": {
    "name": "ipython",
    "version": 3
   },
   "file_extension": ".py",
   "mimetype": "text/x-python",
   "name": "python",
   "nbconvert_exporter": "python",
   "pygments_lexer": "ipython3",
   "version": "3.12.1"
  }
 },
 "nbformat": 4,
 "nbformat_minor": 5
}
